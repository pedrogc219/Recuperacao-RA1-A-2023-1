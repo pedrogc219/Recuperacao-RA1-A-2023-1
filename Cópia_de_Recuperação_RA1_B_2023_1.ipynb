{
  "nbformat": 4,
  "nbformat_minor": 0,
  "metadata": {
    "colab": {
      "provenance": [],
      "include_colab_link": true
    },
    "kernelspec": {
      "name": "python3",
      "display_name": "Python 3"
    },
    "language_info": {
      "name": "python"
    }
  },
  "cells": [
    {
      "cell_type": "markdown",
      "metadata": {
        "id": "view-in-github",
        "colab_type": "text"
      },
      "source": [
        "<a href=\"https://colab.research.google.com/github/pedrogc219/Recuperacao-RA1-B-2023-1/blob/main/C%C3%B3pia_de_Recupera%C3%A7%C3%A3o_RA1_B_2023_1.ipynb\" target=\"_parent\"><img src=\"https://colab.research.google.com/assets/colab-badge.svg\" alt=\"Open In Colab\"/></a>"
      ]
    },
    {
      "cell_type": "markdown",
      "source": [
        "# Leia com Atenção\n",
        "1. Você deve copiar este caderno de questões e responder as questões preservando os enunciados. \n",
        "2. Para entregar suas respostas você deverá postar o link do seu caderno, com as suas respostas no ambiente virtual de aprendizagem.\n",
        "3. Você pode consultar qualquer ferramenta disponível na internet, mas não pode consultar outro ser humano.\n",
        "4. Caso a questão solicite o uso da álgebra, todos os passos referentes a aplicações de regras, fatorações, substituições ou simplificações deverão estar matematicamente explicitadas.\n",
        "5. Caso a questão solicite a criação de gráficos, todas as legendas, anotações e títulos que incluam funções, equações, números, ou incógnitas devem estar impressas com latex.\n",
        "6. A nota máxima atingida nesta atividade será igual ou menor que 7.\n",
        "7. A interpretação faz parte da questão."
      ],
      "metadata": {
        "id": "3CEPHr6nM2Vs"
      }
    },
    {
      "cell_type": "markdown",
      "source": [
        "#Questão 1\n",
        "A seguir estão listados três limites. Sua tarefa será encontar o valor destes limites de duas formas: algébricamente e gráficamente.\n",
        "\n",
        "a) Para a solução algébrica, você deve explicitar todas as passagens necessárias em latex, em uma célula de texto.\n",
        "\n",
        "b) Para solucionar graficamente deverá usar uma tabela de aproximação pela esquerda e pela direita. Lembre-se de plotar o gráfico, os pontos usados para a aproximação e de imprimir a tabela no terminal. \n",
        "\n",
        "\n",
        "1. $$\\lim_{{x \\to 0}} \\frac{1 - \\cos(2x)}{x^2}$$\n",
        "\n",
        "---\n",
        "2. $$\\lim_{{x \\to \\infty}} \\frac{3x^2 - 2x + 1}{2x^2 + x - 1}$$\n",
        "\n",
        "---\n",
        "3. $$\\lim_{{x \\to 0}} x \\cdot \\ln(1 + \\sin(\\frac{1}{x}))$$\n"
      ],
      "metadata": {
        "id": "Hxx-LIvxOW2I"
      }
    },
    {
      "cell_type": "markdown",
      "source": [
        "## 1.1 Resolução\n",
        "\n",
        "$$\\lim_{{x \\to 0}} \\frac{1 - \\cos(2x)}{x^2}$$\n",
        "\n",
        "Primeiro simplificamos, ja que substituição o denominador dara 0, usaremos a regra de L'Hôpital, $ \\lim_{{x \\to a}} \\frac{f(x)}{g(x)} = \\lim_{{x \\to a}} \\frac{f'(x)}{g'(x)} $:\n",
        "\n",
        "$$\\lim_{{x \\to 0}} \\frac{2sin(2x)}{2x}$$\n",
        "\n",
        "Regra de L'Hôpital novamente:\n",
        "\n",
        "$$\\lim_{{x \\to 0}} \\frac{4cos(2x)}{2}$$\n",
        "\n",
        "Agora podemos substituir:\n",
        "\n",
        "$$\\lim_{{x \\to 0}} \\frac{4cos(2\\times0)}{2}$$\n",
        "\n",
        "$$\\lim_{{x \\to 0}} \\frac{4\\times1}{2}$$\n",
        "\n",
        "$$\\lim_{{x \\to 0}} 2$$"
      ],
      "metadata": {
        "id": "h28Ee1N61WFZ"
      }
    },
    {
      "cell_type": "code",
      "source": [
        "# gráfico 1.1\n",
        "import numpy as np\n",
        "import matplotlib.pyplot as plt\n",
        "\n",
        "f1_x = np.linspace(-10, -2.99, 100) # x para sin(x)\n",
        "\n",
        "f1_y = np.sin(f1_x) # y para sin(x)\n",
        "\n",
        "# curvas\n",
        "plt.plot(f1_x, f1_y, label=\"$f(x)=sin(x)$\", color='blue')\n",
        "plt.plot(f2_x, f2_y, label=\"$f(x)=cos(x)$\", color=\"orange\")\n",
        "plt.plot(f3_x, f3_y, label=\"$f(x)=x^2$\", color=\"green\")\n",
        "plt.plot(f4_x, f4_y, label=\"$f(x)=e^{x-10}$\", color=\"red\")\n",
        "\n",
        "# pontos de descontinuidade\n",
        "plt.scatter(f1_x[-1], f1_y[-1], color='blue')\n",
        "plt.scatter(f2_x[-1], f2_y[-1], color=\"orange\")\n",
        "plt.scatter(f3_x[-1], f3_y[-1], color=\"green\")\n",
        "\n",
        "plt.grid(True)\n",
        "plt.legend()\n",
        "plt.show()"
      ],
      "metadata": {
        "id": "M5J36VRlQ3le"
      },
      "execution_count": null,
      "outputs": []
    },
    {
      "cell_type": "markdown",
      "source": [
        "## Resolução 1.2"
      ],
      "metadata": {
        "id": "appMCnlV1n2K"
      }
    },
    {
      "cell_type": "code",
      "source": [],
      "metadata": {
        "id": "jDg3wPnc1yuQ"
      },
      "execution_count": null,
      "outputs": []
    },
    {
      "cell_type": "markdown",
      "source": [
        "## Resolução 1.3"
      ],
      "metadata": {
        "id": "QSwtpcuT1zJI"
      }
    },
    {
      "cell_type": "code",
      "source": [],
      "metadata": {
        "id": "lYzTqfRo13uE"
      },
      "execution_count": null,
      "outputs": []
    },
    {
      "cell_type": "markdown",
      "source": [
        "# Questão 2\n",
        "Considerando a função definida por: \n",
        "A função descontínua $f(x)$ é definida como:\n",
        "\n",
        "$$\n",
        "f(x) = \n",
        "\\begin{cases} \n",
        "\\sin(x) & \\text{se } -10 \\leq x < -3 \\\\\n",
        "\\cos(x) & \\text{se } -3 \\leq x < 0 \\\\\n",
        "x^2 & \\text{se } 0 \\leq x < 3 \\\\\n",
        "e^{x-10} & \\text{se } 3 \\leq x \\leq 10\n",
        "\\end{cases}\n",
        "$$\n",
        "\n",
        "Trace o gráfico desta função, marque os pontos de descontinuidade, caso existam estes pontos, com um círculo vermelho, coloque o valor destes pontos. Não se esqueça de colocar uma legenda que permita o entendimento do seu gráfico indicando as curvas correspondentes a cada equação. "
      ],
      "metadata": {
        "id": "YpFveeb-V7hS"
      }
    },
    {
      "cell_type": "code",
      "source": [
        "# gráfico função 2\n",
        "import numpy as np\n",
        "from math import e\n",
        "import matplotlib.pyplot as plt\n",
        "\n",
        "f1_x = np.linspace(-10, -2.99, 100) # x para sin(x)\n",
        "f2_x = np.linspace(-3, -0.01, 100) # x para cos(x)\n",
        "f3_x = np.linspace(0, 2.99, 100) # x para x^2\n",
        "f4_x = np.linspace(3, 10, 100) # x para e^{x-10}\n",
        "\n",
        "f1_y = np.sin(f1_x) # y para sin(x)\n",
        "f2_y = np.cos(f2_x) # y para cos(x)\n",
        "f3_y = f3_x**2 # y para x^2\n",
        "f4_y = e**(f4_x-10) # y para e^{x-10}\n",
        "\n",
        "# curvas\n",
        "plt.plot(f1_x, f1_y, label=\"$f(x)=sin(x)$\", color='blue')\n",
        "plt.plot(f2_x, f2_y, label=\"$f(x)=cos(x)$\", color=\"orange\")\n",
        "plt.plot(f3_x, f3_y, label=\"$f(x)=x^2$\", color=\"green\")\n",
        "plt.plot(f4_x, f4_y, label=\"$f(x)=e^{x-10}$\", color=\"red\")\n",
        "\n",
        "# pontos de descontinuidade\n",
        "plt.scatter(f1_x[-1], f1_y[-1], color='blue')\n",
        "plt.scatter(f2_x[-1], f2_y[-1], color=\"orange\")\n",
        "plt.scatter(f3_x[-1], f3_y[-1], color=\"green\")\n",
        "\n",
        "plt.grid(True)\n",
        "plt.legend()\n",
        "plt.show()"
      ],
      "metadata": {
        "id": "txmlFpLtW_ci",
        "colab": {
          "base_uri": "https://localhost:8080/",
          "height": 430
        },
        "outputId": "ebe5b1bb-89ea-4101-fa81-79aa928ecdac"
      },
      "execution_count": 12,
      "outputs": [
        {
          "output_type": "display_data",
          "data": {
            "text/plain": [
              "<Figure size 640x480 with 1 Axes>"
            ],
            "image/png": "[encoded data removed]"
          },
          "metadata": {}
        }
      ]
    }
  ]
}